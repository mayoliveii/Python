{
  "nbformat": 4,
  "nbformat_minor": 0,
  "metadata": {
    "colab": {
      "provenance": []
    },
    "kernelspec": {
      "name": "python3",
      "display_name": "Python 3"
    },
    "language_info": {
      "name": "python"
    }
  },
  "cells": [
    {
      "cell_type": "markdown",
      "source": [
        "#DataFrame of each politician and the votes they receive in the UDESC classrooms\n"
      ],
      "metadata": {
        "id": "mlNwz_eD0sF_"
      }
    },
    {
      "cell_type": "code",
      "execution_count": 1,
      "metadata": {
        "id": "9xTePbakz68r"
      },
      "outputs": [],
      "source": [
        "import pandas as pd"
      ]
    },
    {
      "cell_type": "code",
      "source": [
        "dataframe = pd.DataFrame({'name': ['Bolsonaro','Bolsonaro', 'Bolsonaro', 'Lula', 'Lula', 'Lula', 'Lula',  'Lula','Lula', 'Ciro', 'Ciro', 'Ciro', 'Simone', 'Simone','Soraya'],\n",
        "                          'votes': [2,1,7,8,1,5,3,2,4,2,1,3,1,1,2]})\n",
        "  \n",
        "#view DataFrame\n",
        "print(dataframe)"
      ],
      "metadata": {
        "colab": {
          "base_uri": "https://localhost:8080/"
        },
        "id": "jDnDx9wbz-7p",
        "outputId": "778d3e5f-151c-4cec-8d72-a2706c37b88b"
      },
      "execution_count": 13,
      "outputs": [
        {
          "output_type": "stream",
          "name": "stdout",
          "text": [
            "         name  votes\n",
            "0   Bolsonaro      2\n",
            "1   Bolsonaro      1\n",
            "2   Bolsonaro      7\n",
            "3        Lula      8\n",
            "4        Lula      1\n",
            "5        Lula      5\n",
            "6        Lula      3\n",
            "7        Lula      2\n",
            "8        Lula      4\n",
            "9        Ciro      2\n",
            "10       Ciro      1\n",
            "11       Ciro      3\n",
            "12     Simone      1\n",
            "13     Simone      1\n",
            "14     Soraya      2\n"
          ]
        }
      ]
    },
    {
      "cell_type": "code",
      "source": [
        "dataframe.groupby(['name']).sum().plot(kind='pie', y='votes', autopct='%1.0f%%',colors = ['green', 'blue','red', 'orange', 'purple'] )"
      ],
      "metadata": {
        "colab": {
          "base_uri": "https://localhost:8080/",
          "height": 265
        },
        "id": "dFJHBk2W2Ud8",
        "outputId": "9687a1dd-bde4-4833-b9d1-59dd85f8afbb"
      },
      "execution_count": 16,
      "outputs": [
        {
          "output_type": "execute_result",
          "data": {
            "text/plain": [
              "<matplotlib.axes._subplots.AxesSubplot at 0x7f0d37a93350>"
            ]
          },
          "metadata": {},
          "execution_count": 16
        },
        {
          "output_type": "display_data",
          "data": {
            "text/plain": [
              "<Figure size 432x288 with 1 Axes>"
            ],
            "image/png": "[encoded data removed]"
          },
          "metadata": {}
        }
      ]
    },
    {
      "cell_type": "markdown",
      "source": [
        "**source: voices in my head**\n"
      ],
      "metadata": {
        "id": "nLmkqWAZ5waa"
      }
    }
  ]
}