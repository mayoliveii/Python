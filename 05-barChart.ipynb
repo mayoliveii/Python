{
  "nbformat": 4,
  "nbformat_minor": 0,
  "metadata": {
    "colab": {
      "provenance": []
    },
    "kernelspec": {
      "name": "python3",
      "display_name": "Python 3"
    },
    "language_info": {
      "name": "python"
    }
  },
  "cells": [
    {
      "cell_type": "markdown",
      "source": [
        "#DataFrame of each politician and the votes they receive in the UDESC classrooms\n",
        "\n",
        "---\n",
        "\n",
        "\n"
      ],
      "metadata": {
        "id": "mlNwz_eD0sF_"
      }
    },
    {
      "cell_type": "code",
      "execution_count": 28,
      "metadata": {
        "id": "9xTePbakz68r"
      },
      "outputs": [],
      "source": [
        "import pandas as pd"
      ]
    },
    {
      "cell_type": "code",
      "source": [
        "Bolsonaro = [3, 2, 5, 4, 8, 3, 5]\n",
        "Lula = [6, 7, 4, 5, 1, 5, 4]\n",
        "index = ['Cálculo I', 'Cálculo II', 'Cálculo III', 'Cálculo IV', 'Cálculo Numérico', 'Álgebra Linear', 'Geometria Analítica']"
      ],
      "metadata": {
        "id": "jDnDx9wbz-7p"
      },
      "execution_count": 29,
      "outputs": []
    },
    {
      "cell_type": "code",
      "source": [
        "df = pd.DataFrame({'Bolsonaro': Bolsonaro, 'Lula': Lula}, index=index)\n",
        "\n",
        "#view DataFrame\n",
        "print(df)"
      ],
      "metadata": {
        "colab": {
          "base_uri": "https://localhost:8080/"
        },
        "id": "N8isaoHL9q7p",
        "outputId": "0baccace-5dae-468b-a710-48a6770687b5"
      },
      "execution_count": 30,
      "outputs": [
        {
          "output_type": "stream",
          "name": "stdout",
          "text": [
            "                     Bolsonaro  Lula\n",
            "Cálculo I                    3     6\n",
            "Cálculo II                   2     7\n",
            "Cálculo III                  5     4\n",
            "Cálculo IV                   4     5\n",
            "Cálculo Numérico             8     1\n",
            "Álgebra Linear               3     5\n",
            "Geometria Analítica          5     4\n"
          ]
        }
      ]
    },
    {
      "cell_type": "code",
      "source": [
        "ax = df.plot.bar(rot=0, color={\"Bolsonaro\": \"green\", \"Lula\": \"red\"})\n"
      ],
      "metadata": {
        "colab": {
          "base_uri": "https://localhost:8080/",
          "height": 267
        },
        "id": "tDTF48H59wn1",
        "outputId": "a698b194-fa4b-4189-f89b-5aea9e13c0bc"
      },
      "execution_count": 31,
      "outputs": [
        {
          "output_type": "display_data",
          "data": {
            "text/plain": [
              "<Figure size 432x288 with 1 Axes>"
            ],
            "image/png": "[encoded data removed]"
          },
          "metadata": {
            "needs_background": "light"
          }
        }
      ]
    },
    {
      "cell_type": "markdown",
      "source": [
        "**source: voices in my head**\n"
      ],
      "metadata": {
        "id": "nLmkqWAZ5waa"
      }
    }
  ]
}